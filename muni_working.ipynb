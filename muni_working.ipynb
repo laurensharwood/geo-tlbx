{
 "cells": [
  {
   "cell_type": "code",
   "execution_count": 269,
   "id": "b48cd142-ee11-4c4e-9c2b-1a8d5213bd3f",
   "metadata": {},
   "outputs": [
    {
     "data": {
      "text/html": [
       "\n",
       "            <style>\n",
       "                .geemap-dark {\n",
       "                    --jp-widgets-color: white;\n",
       "                    --jp-widgets-label-color: white;\n",
       "                    --jp-ui-font-color1: white;\n",
       "                    --jp-layout-color2: #454545;\n",
       "                    background-color: #383838;\n",
       "                }\n",
       "\n",
       "                .geemap-dark .jupyter-button {\n",
       "                    --jp-layout-color3: #383838;\n",
       "                }\n",
       "\n",
       "                .geemap-colab {\n",
       "                    background-color: var(--colab-primary-surface-color, white);\n",
       "                }\n",
       "\n",
       "                .geemap-colab .jupyter-button {\n",
       "                    --jp-layout-color3: var(--colab-primary-surface-color, white);\n",
       "                }\n",
       "            </style>\n",
       "            "
      ],
      "text/plain": [
       "<IPython.core.display.HTML object>"
      ]
     },
     "metadata": {},
     "output_type": "display_data"
    }
   ],
   "source": [
    "import os\n",
    "import pandas as pd\n",
    "import geo_utils as geou\n",
    "import vector_utils as vu\n",
    "import raster_utils as ru\n",
    "import plot_utils as pu"
   ]
  },
  {
   "cell_type": "code",
   "execution_count": 270,
   "id": "93c1b95e-83f8-4fb9-ba5c-8ba974475048",
   "metadata": {},
   "outputs": [
    {
     "data": {
      "text/html": [
       "\n",
       "            <style>\n",
       "                .geemap-dark {\n",
       "                    --jp-widgets-color: white;\n",
       "                    --jp-widgets-label-color: white;\n",
       "                    --jp-ui-font-color1: white;\n",
       "                    --jp-layout-color2: #454545;\n",
       "                    background-color: #383838;\n",
       "                }\n",
       "\n",
       "                .geemap-dark .jupyter-button {\n",
       "                    --jp-layout-color3: #383838;\n",
       "                }\n",
       "\n",
       "                .geemap-colab {\n",
       "                    background-color: var(--colab-primary-surface-color, white);\n",
       "                }\n",
       "\n",
       "                .geemap-colab .jupyter-button {\n",
       "                    --jp-layout-color3: var(--colab-primary-surface-color, white);\n",
       "                }\n",
       "            </style>\n",
       "            "
      ],
      "text/plain": [
       "<IPython.core.display.HTML object>"
      ]
     },
     "metadata": {},
     "output_type": "display_data"
    }
   ],
   "source": [
    "import ee\n",
    "\n",
    "ee.Authenticate()\n",
    "ee.Initialize()"
   ]
  },
  {
   "cell_type": "code",
   "execution_count": 288,
   "id": "a8b2cf62-b888-4b90-b27f-e08eb42f478b",
   "metadata": {},
   "outputs": [
    {
     "data": {
      "text/html": [
       "\n",
       "            <style>\n",
       "                .geemap-dark {\n",
       "                    --jp-widgets-color: white;\n",
       "                    --jp-widgets-label-color: white;\n",
       "                    --jp-ui-font-color1: white;\n",
       "                    --jp-layout-color2: #454545;\n",
       "                    background-color: #383838;\n",
       "                }\n",
       "\n",
       "                .geemap-dark .jupyter-button {\n",
       "                    --jp-layout-color3: #383838;\n",
       "                }\n",
       "\n",
       "                .geemap-colab {\n",
       "                    background-color: var(--colab-primary-surface-color, white);\n",
       "                }\n",
       "\n",
       "                .geemap-colab .jupyter-button {\n",
       "                    --jp-layout-color3: var(--colab-primary-surface-color, white);\n",
       "                }\n",
       "            </style>\n",
       "            "
      ],
      "text/plain": [
       "<IPython.core.display.HTML object>"
      ]
     },
     "metadata": {},
     "output_type": "display_data"
    }
   ],
   "source": [
    "## County, State abbreviation\n",
    "county_state = \"Santa Barbara, CA\" \n",
    "\n",
    "## acs hierarchy region\n",
    "hierarch_region=\"tract\"\n",
    "\n",
    "## remove water bodies like lakes from shape\n",
    "rm_water = False\n",
    "\n",
    "## output directory \n",
    "out_dir=r\"C:\\Users\\laure\\projects\\geo-tlbx-main\"\n",
    "\n",
    "## output driver type (see driver_extension_dict below for options)\n",
    "out_driver = \"ESRI Shapefile\"\n",
    "\n",
    "## ACS survey year\n",
    "acs_yr = 2022"
   ]
  },
  {
   "cell_type": "code",
   "execution_count": 289,
   "id": "a0731981-fff0-483a-a138-620014b19beb",
   "metadata": {},
   "outputs": [
    {
     "data": {
      "text/html": [
       "\n",
       "            <style>\n",
       "                .geemap-dark {\n",
       "                    --jp-widgets-color: white;\n",
       "                    --jp-widgets-label-color: white;\n",
       "                    --jp-ui-font-color1: white;\n",
       "                    --jp-layout-color2: #454545;\n",
       "                    background-color: #383838;\n",
       "                }\n",
       "\n",
       "                .geemap-dark .jupyter-button {\n",
       "                    --jp-layout-color3: #383838;\n",
       "                }\n",
       "\n",
       "                .geemap-colab {\n",
       "                    background-color: var(--colab-primary-surface-color, white);\n",
       "                }\n",
       "\n",
       "                .geemap-colab .jupyter-button {\n",
       "                    --jp-layout-color3: var(--colab-primary-surface-color, white);\n",
       "                }\n",
       "            </style>\n",
       "            "
      ],
      "text/plain": [
       "<IPython.core.display.HTML object>"
      ]
     },
     "metadata": {},
     "output_type": "display_data"
    }
   ],
   "source": [
    "driver_extension_dict = {\n",
    "    \"ESRI Shapefile\" : \".shp\",\n",
    "    \"OpenFileGDB\" : \".gdb\",\n",
    "    \"GPKG\" : \".gpkg\",\n",
    "    \"GeoJSON\" : \".geojson\"\n",
    "}\n",
    "\n",
    "acs_name_var_dict = { ## {ACS variable name: [ACS variable code to search, column name to save as]}\n",
    "    'median_household_income': ['B19049_001E', 'mhi'],\n",
    "     'total_population': ['B01003_001E', 'total_pop'],\n",
    "     'median_age': ['B01002_001E', 'med_age']\n",
    "}"
   ]
  },
  {
   "cell_type": "markdown",
   "id": "49a3dbc5-e55e-4dec-aa7c-85e090c84828",
   "metadata": {},
   "source": [
    "## Census \n",
    "\n",
    "https://walker-data.com/umich-workshop-2023/python/#76\n",
    "\n"
   ]
  },
  {
   "cell_type": "code",
   "execution_count": null,
   "id": "ec72e42a-08a8-4d12-8cb9-efa9de09d0bc",
   "metadata": {
    "scrolled": true
   },
   "outputs": [],
   "source": [
    "import pandas as pd\n",
    "from functools import reduce\n",
    "from pygris.utils import erase_water\n",
    "\n",
    "county_name, state_abr= county_state.split(\", \")\n",
    "\n",
    "acs_vars = []\n",
    "for acs_name in acs_name_var_dict.keys():\n",
    "    ## set ACS variable ID from acs_name_var_dict\n",
    "    acs_var_id = acs_name_var_dict[acs_name][0]\n",
    "    ## download census shape and vairbale \n",
    "    acs_var_gdf = geou.get_census_var_gdf(acs_var_id, acs_yr, hierarch_region, county_name, state_abr)\n",
    "    ## column limit is 9 for ESRI shapefiles \n",
    "    acs_var_gdf.rename(columns={acs_var_id:acs_name_var_dict[acs_name][1]}, inplace=True) \n",
    "    ## AGOL features need to be in web mercator (EPSG 3857)\n",
    "    acs_webmerc = acs_var_gdf.to_crs(3857)\n",
    "    ## append acs variable gdf to list \n",
    "    acs_vars.append(acs_webmerc)\n",
    "\n",
    "## combine \n",
    "acs_var_gdfs = reduce(lambda x, y: pd.merge(x, y, on=acs_webmerc.columns.to_list()[:-1]), acs_vars)\n",
    "\n",
    "## option to erase water \n",
    "if rm_water == True:\n",
    "    acs_var_gdfs = erase_water(acs_var_gdfs, area_threshold = 0.9)\n",
    "    \n",
    "## export \n",
    "acs_var_gdfs.to_file(os.path.join(out_dir, county_name.replace(\" \", \"\")+\"_\"+hierarch_region+\"_\"+driver_extension_dict[out_driver]), driver=out_driver)\n",
    "\n",
    "## for vis (last key/var in list)\n",
    "acs_var_gdfs.explore(column = acs_name_var_dict[acs_name][1])\n"
   ]
  },
  {
   "cell_type": "markdown",
   "id": "1fc366f6-bcc8-4add-996b-5d23ea1e30d7",
   "metadata": {},
   "source": [
    "## Open Street Map POIs for running route: "
   ]
  },
  {
   "cell_type": "code",
   "execution_count": 279,
   "id": "affec5fe-a533-4108-824c-8491c387ab64",
   "metadata": {},
   "outputs": [
    {
     "data": {
      "text/html": [
       "\n",
       "            <style>\n",
       "                .geemap-dark {\n",
       "                    --jp-widgets-color: white;\n",
       "                    --jp-widgets-label-color: white;\n",
       "                    --jp-ui-font-color1: white;\n",
       "                    --jp-layout-color2: #454545;\n",
       "                    background-color: #383838;\n",
       "                }\n",
       "\n",
       "                .geemap-dark .jupyter-button {\n",
       "                    --jp-layout-color3: #383838;\n",
       "                }\n",
       "\n",
       "                .geemap-colab {\n",
       "                    background-color: var(--colab-primary-surface-color, white);\n",
       "                }\n",
       "\n",
       "                .geemap-colab .jupyter-button {\n",
       "                    --jp-layout-color3: var(--colab-primary-surface-color, white);\n",
       "                }\n",
       "            </style>\n",
       "            "
      ],
      "text/plain": [
       "<IPython.core.display.HTML object>"
      ]
     },
     "metadata": {},
     "output_type": "display_data"
    }
   ],
   "source": [
    "single_gdf = vu.largest_multipolypart(acs_webmerc.to_crs(4326).dissolve())\n",
    "\n",
    "single_geom = single_gdf.iloc[0].geometry\n",
    "\n",
    "## not using currently \n",
    "coord_list = [i for i in single_geom.boundary.coords]\n",
    "\n",
    "## flip XY for 4326 -> 3857: Earth Engine Webmap center \n",
    "AOI_center = (single_geom.centroid.y, single_geom.centroid.x)\n",
    "\n",
    "## OSM bbox\n",
    "min_lon, min_lat, max_lon, max_lat = tuple([i for i in vu.largest_multipolypart(acs_webmerc).to_crs(4326).total_bounds])\n",
    "osm_bbox=(min_lat, min_lon, max_lat, max_lon) ## min_lon + 1 to make query end more east and not be in the ocean \n",
    "\n",
    "## hard code sb (issues finding OSM & DEM points in the ocean) *********\n",
    "## osm_bbox = (34.412986361497566, -120.58261366193953, 34.829092385785955, -119.54844924629602)"
   ]
  },
  {
   "cell_type": "code",
   "execution_count": 280,
   "id": "c8efcdd8-3bf0-4a8d-891d-d6fbff74ba36",
   "metadata": {},
   "outputs": [
    {
     "data": {
      "text/html": [
       "\n",
       "            <style>\n",
       "                .geemap-dark {\n",
       "                    --jp-widgets-color: white;\n",
       "                    --jp-widgets-label-color: white;\n",
       "                    --jp-ui-font-color1: white;\n",
       "                    --jp-layout-color2: #454545;\n",
       "                    background-color: #383838;\n",
       "                }\n",
       "\n",
       "                .geemap-dark .jupyter-button {\n",
       "                    --jp-layout-color3: #383838;\n",
       "                }\n",
       "\n",
       "                .geemap-colab {\n",
       "                    background-color: var(--colab-primary-surface-color, white);\n",
       "                }\n",
       "\n",
       "                .geemap-colab .jupyter-button {\n",
       "                    --jp-layout-color3: var(--colab-primary-surface-color, white);\n",
       "                }\n",
       "            </style>\n",
       "            "
      ],
      "text/plain": [
       "<IPython.core.display.HTML object>"
      ]
     },
     "metadata": {},
     "output_type": "display_data"
    }
   ],
   "source": [
    "POI_dict = {\n",
    "    \"other_water\":[\"drinking_water\", \"pharmacy\", \"school\"]\n",
    "    , \"all_others\": [\"toilets\"]\n",
    "            }\n",
    "\n",
    "for poi_type in POI_dict.keys():\n",
    "    pois = []\n",
    "    for poi_name in POI_dict[poi_type]:\n",
    "        poi = geou.osm_poi(osm_bbox, poi_name)\n",
    "        if len(poi) > 1:\n",
    "            poi['amenity'] = [poi_name for i,v in poi.iterrows()]\n",
    "            pois.append(poi)\n",
    "    pois_merge = pd.concat(pois)\n",
    "    pois_merge.to_file(os.path.join(out_dir, county_name.replace(\" \", \"\")+\"_\"+poi_type+\"_OSM_POIs\"+driver_extension_dict[out_driver]), driver=out_driver)"
   ]
  },
  {
   "cell_type": "markdown",
   "id": "29abf805-63a8-4110-8625-b9bcc8ec2b5a",
   "metadata": {},
   "source": [
    "## find water crossings as POIs for water sources "
   ]
  },
  {
   "cell_type": "code",
   "execution_count": null,
   "id": "3cf8165b-ae60-4129-9061-40d8d4898ab4",
   "metadata": {
    "scrolled": true
   },
   "outputs": [],
   "source": [
    "## download OSM streams\n",
    "waterways_gdf = geou.osm_lines(bbox = osm_bbox, waytype = \"waterway\").to_crs(3857)\n",
    "streams = waterways_gdf[waterways_gdf['type'] == 'stream']\n",
    "streams.to_file(os.path.join(out_dir, county_name.replace(\" \", \"\")+\"_OSM_streams\"+driver_extension_dict[out_driver]), driver=out_driver)"
   ]
  },
  {
   "cell_type": "code",
   "execution_count": 282,
   "id": "0f37c0f3-9433-4785-9ae7-d798a8d406e1",
   "metadata": {},
   "outputs": [
    {
     "data": {
      "text/html": [
       "\n",
       "            <style>\n",
       "                .geemap-dark {\n",
       "                    --jp-widgets-color: white;\n",
       "                    --jp-widgets-label-color: white;\n",
       "                    --jp-ui-font-color1: white;\n",
       "                    --jp-layout-color2: #454545;\n",
       "                    background-color: #383838;\n",
       "                }\n",
       "\n",
       "                .geemap-dark .jupyter-button {\n",
       "                    --jp-layout-color3: #383838;\n",
       "                }\n",
       "\n",
       "                .geemap-colab {\n",
       "                    background-color: var(--colab-primary-surface-color, white);\n",
       "                }\n",
       "\n",
       "                .geemap-colab .jupyter-button {\n",
       "                    --jp-layout-color3: var(--colab-primary-surface-color, white);\n",
       "                }\n",
       "            </style>\n",
       "            "
      ],
      "text/plain": [
       "<IPython.core.display.HTML object>"
      ]
     },
     "metadata": {},
     "output_type": "display_data"
    },
    {
     "name": "stdout",
     "output_type": "stream",
     "text": [
      "['cycleway', 'path', 'unclassified', 'tertiary', 'residential', 'track', 'service', 'trunk_link', 'footway', 'motorway_link', 'living_street', 'primary_link', 'secondary_link', 'primary', 'secondary', 'disused', 'trunk', 'motorway', 'pedestrian', 'tertiary_link', 'bridleway', 'construction', 'steps', 'corridor', 'raceway', 'proposed', 'traffic_island', 'elevator', 'platform']\n"
     ]
    }
   ],
   "source": [
    "## download OSM roads\n",
    "roads = geou.osm_lines(bbox = osm_bbox, waytype = \"highway\").to_crs(3857)\n",
    "## save OSM roads to file\n",
    "roads.to_file(os.path.join(out_dir, county_name.replace(\" \", \"\")+\"_osm_roads.gpkg\"), driver=\"GPKG\")\n",
    "## print road types that will be used to subset trails \n",
    "print(list(roads['type'].unique()))\n",
    "## look at shape in QGIS against satellite basemap -- go to my trails, see what they're classified as   \n",
    "trailtypes = ['track', 'path', 'unclassified', 'footway', 'pedestrian', 'bridleway']\n",
    "## subset trails\n",
    "trails = roads[roads['type'].isin(trailtypes)]\n",
    "## save trails\n",
    "trails.to_file(os.path.join(out_dir, county_name.replace(\" \", \"\")+\"_OSM_trails\"+driver_extension_dict[out_driver]), driver=out_driver)"
   ]
  },
  {
   "cell_type": "code",
   "execution_count": 283,
   "id": "d10bd072-cf15-42d6-98b0-400878c4b786",
   "metadata": {},
   "outputs": [
    {
     "data": {
      "text/html": [
       "\n",
       "            <style>\n",
       "                .geemap-dark {\n",
       "                    --jp-widgets-color: white;\n",
       "                    --jp-widgets-label-color: white;\n",
       "                    --jp-ui-font-color1: white;\n",
       "                    --jp-layout-color2: #454545;\n",
       "                    background-color: #383838;\n",
       "                }\n",
       "\n",
       "                .geemap-dark .jupyter-button {\n",
       "                    --jp-layout-color3: #383838;\n",
       "                }\n",
       "\n",
       "                .geemap-colab {\n",
       "                    background-color: var(--colab-primary-surface-color, white);\n",
       "                }\n",
       "\n",
       "                .geemap-colab .jupyter-button {\n",
       "                    --jp-layout-color3: var(--colab-primary-surface-color, white);\n",
       "                }\n",
       "            </style>\n",
       "            "
      ],
      "text/plain": [
       "<IPython.core.display.HTML object>"
      ]
     },
     "metadata": {},
     "output_type": "display_data"
    }
   ],
   "source": [
    "## find intersecting stream and trail lines \n",
    "xing_pts, xing_lines = vu.line_intersections(geom1 = trails.dissolve().to_crs(4326).geometry, \n",
    "                                          geom2 = streams.dissolve().to_crs(4326).geometry)\n",
    "xing_pts.to_file(os.path.join(out_dir, county_name.replace(\" \", \"\")+\"_OSM_h2oXing_pts\"+driver_extension_dict[out_driver]), driver=out_driver)\n",
    "xing_lines.to_file(os.path.join(out_dir, county_name.replace(\" \", \"\")+\"_OSM_h2oXing_lines\"+driver_extension_dict[out_driver]), driver=out_driver)"
   ]
  },
  {
   "cell_type": "markdown",
   "id": "8976b641-e11a-495a-8ec7-e47b4a7ec825",
   "metadata": {},
   "source": [
    "### find OSM roads (lots of trails) missing in Census roads dataset"
   ]
  },
  {
   "cell_type": "code",
   "execution_count": null,
   "id": "a07330ab-ea18-4c7d-8f23-8feffee8dd29",
   "metadata": {},
   "outputs": [],
   "source": [
    "## get Census - TIGER primary roads \n",
    "acs_roads = geou.get_roads_by_county(county = county_name, state = state_abr).to_crs(3857) \n",
    "## save to file\n",
    "acs_roads.to_file(os.path.join(out_dir, county_name.replace(\" \", \"\")+\"_ACS_roads\"+driver_extension_dict[out_driver]), driver=out_driver)\n",
    "acs_roads.explore('RTTYP')"
   ]
  },
  {
   "cell_type": "code",
   "execution_count": 285,
   "id": "b5eef122-e248-4aa8-a215-77c147b17bc8",
   "metadata": {},
   "outputs": [
    {
     "data": {
      "text/html": [
       "\n",
       "            <style>\n",
       "                .geemap-dark {\n",
       "                    --jp-widgets-color: white;\n",
       "                    --jp-widgets-label-color: white;\n",
       "                    --jp-ui-font-color1: white;\n",
       "                    --jp-layout-color2: #454545;\n",
       "                    background-color: #383838;\n",
       "                }\n",
       "\n",
       "                .geemap-dark .jupyter-button {\n",
       "                    --jp-layout-color3: #383838;\n",
       "                }\n",
       "\n",
       "                .geemap-colab {\n",
       "                    background-color: var(--colab-primary-surface-color, white);\n",
       "                }\n",
       "\n",
       "                .geemap-colab .jupyter-button {\n",
       "                    --jp-layout-color3: var(--colab-primary-surface-color, white);\n",
       "                }\n",
       "            </style>\n",
       "            "
      ],
      "text/plain": [
       "<IPython.core.display.HTML object>"
      ]
     },
     "metadata": {},
     "output_type": "display_data"
    }
   ],
   "source": [
    "## find intersecting stream and trail lines \n",
    "xing_pts, xing_lines = vu.line_intersections(geom1 = roads.dissolve().to_crs(4326).geometry, \n",
    "                                          geom2 = acs_roads.dissolve().to_crs(4326).geometry)"
   ]
  },
  {
   "cell_type": "markdown",
   "id": "569b9efc-1fd5-4b66-ade4-b30340ebfb1b",
   "metadata": {},
   "source": [
    "## US 3DEP - Elevation\n"
   ]
  },
  {
   "cell_type": "code",
   "execution_count": 296,
   "id": "4c7f7c43-fcaa-45c2-94f2-69a3a7041df9",
   "metadata": {},
   "outputs": [
    {
     "data": {
      "text/html": [
       "\n",
       "            <style>\n",
       "                .geemap-dark {\n",
       "                    --jp-widgets-color: white;\n",
       "                    --jp-widgets-label-color: white;\n",
       "                    --jp-ui-font-color1: white;\n",
       "                    --jp-layout-color2: #454545;\n",
       "                    background-color: #383838;\n",
       "                }\n",
       "\n",
       "                .geemap-dark .jupyter-button {\n",
       "                    --jp-layout-color3: #383838;\n",
       "                }\n",
       "\n",
       "                .geemap-colab {\n",
       "                    background-color: var(--colab-primary-surface-color, white);\n",
       "                }\n",
       "\n",
       "                .geemap-colab .jupyter-button {\n",
       "                    --jp-layout-color3: var(--colab-primary-surface-color, white);\n",
       "                }\n",
       "            </style>\n",
       "            "
      ],
      "text/plain": [
       "<IPython.core.display.HTML object>"
      ]
     },
     "metadata": {},
     "output_type": "display_data"
    }
   ],
   "source": [
    "import py3dep\n",
    "import rioxarray\n",
    "\n",
    "## NAD83 horizontal datum, NAVD88 vertical datum\n",
    "dem = py3dep.static_3dep_dem(geometry = vu.largest_multipolypart(acs_webmerc.dissolve()).geometry.iloc[0], crs = 3857, resolution = 10)\n",
    "dem.rio.to_raster(os.path.join(out_dir, county_name.replace(\" \", \"\")+\"_DEM.tif\"))"
   ]
  },
  {
   "cell_type": "markdown",
   "id": "394e3e84-7a58-426e-a502-7e3c175e2140",
   "metadata": {},
   "source": [
    "## GEE - NLCD (Landcover)"
   ]
  },
  {
   "cell_type": "code",
   "execution_count": 297,
   "id": "46c39fda-e0a3-4771-b3c3-7f17d33840ec",
   "metadata": {},
   "outputs": [
    {
     "data": {
      "text/html": [
       "\n",
       "            <style>\n",
       "                .geemap-dark {\n",
       "                    --jp-widgets-color: white;\n",
       "                    --jp-widgets-label-color: white;\n",
       "                    --jp-ui-font-color1: white;\n",
       "                    --jp-layout-color2: #454545;\n",
       "                    background-color: #383838;\n",
       "                }\n",
       "\n",
       "                .geemap-dark .jupyter-button {\n",
       "                    --jp-layout-color3: #383838;\n",
       "                }\n",
       "\n",
       "                .geemap-colab {\n",
       "                    background-color: var(--colab-primary-surface-color, white);\n",
       "                }\n",
       "\n",
       "                .geemap-colab .jupyter-button {\n",
       "                    --jp-layout-color3: var(--colab-primary-surface-color, white);\n",
       "                }\n",
       "            </style>\n",
       "            "
      ],
      "text/plain": [
       "<IPython.core.display.HTML object>"
      ]
     },
     "metadata": {},
     "output_type": "display_data"
    }
   ],
   "source": [
    "## create aoi object for EE (in 4326)\n",
    "aoi = ee.Geometry.Rectangle([single_gdf.bounds.minx[0], single_gdf.bounds.miny[0], single_gdf.bounds.maxx[0], single_gdf.bounds.maxy[0]])"
   ]
  },
  {
   "cell_type": "code",
   "execution_count": null,
   "id": "afe6f329-e6c1-4b13-8404-bb1fb99b5f5c",
   "metadata": {},
   "outputs": [],
   "source": [
    "import geemap\n",
    "\n",
    "Map = geemap.Map(center=AOI_center, zoom=4)\n",
    "\n",
    "nlcd = ee.ImageCollection(\"USGS/NLCD_RELEASES/2021_REL/NLCD\").select(\"landcover\").filterBounds(aoi)\n",
    "nlcd_colors = nlcd.getInfo()['features'][0]['properties']['landcover_class_palette']\n",
    "nlcd_values = sorted(nlcd.getInfo()['features'][0]['properties']['landcover_class_values'])\n",
    "Map.addLayer(nlcd, {'bands':'landcover', 'palette': nlcd_colors, 'min': nlcd_values[0], 'max':nlcd_values[-1]}, \"2021 NLCD\")\n",
    "## download image\n",
    "geemap.download_ee_image_tiles(nlcd.toBands(), geemap.fishnet(aoi, rows=2, cols=2), out_dir, prefix=\"nlcd_\", crs=\"EPSG:3857\", scale=30)\n",
    "## display map\n",
    "Map"
   ]
  },
  {
   "cell_type": "code",
   "execution_count": 299,
   "id": "083dbbc7-2f54-4b27-af80-160134fdbbc7",
   "metadata": {},
   "outputs": [
    {
     "data": {
      "text/html": [
       "\n",
       "            <style>\n",
       "                .geemap-dark {\n",
       "                    --jp-widgets-color: white;\n",
       "                    --jp-widgets-label-color: white;\n",
       "                    --jp-ui-font-color1: white;\n",
       "                    --jp-layout-color2: #454545;\n",
       "                    background-color: #383838;\n",
       "                }\n",
       "\n",
       "                .geemap-dark .jupyter-button {\n",
       "                    --jp-layout-color3: #383838;\n",
       "                }\n",
       "\n",
       "                .geemap-colab {\n",
       "                    background-color: var(--colab-primary-surface-color, white);\n",
       "                }\n",
       "\n",
       "                .geemap-colab .jupyter-button {\n",
       "                    --jp-layout-color3: var(--colab-primary-surface-color, white);\n",
       "                }\n",
       "            </style>\n",
       "            "
      ],
      "text/plain": [
       "<IPython.core.display.HTML object>"
      ]
     },
     "metadata": {},
     "output_type": "display_data"
    }
   ],
   "source": [
    "## mosaic, delete tiles \n",
    "nlcd_tiles = [os.path.join(out_dir, i) for i in os.listdir(out_dir) if (\"nlcd\" in i and i.endswith(\".tif\"))]\n",
    "ru.mosaic_rasters(in_rasters = nlcd_tiles, \n",
    "                  out_path = os.path.join(out_dir, county_name.replace(\" \", \"\")+\"_nlcd.tif\"))\n",
    "for i in nlcd_tiles:\n",
    "    os.remove(i)"
   ]
  },
  {
   "cell_type": "code",
   "execution_count": null,
   "id": "360c845c-c746-45c4-9681-efe7829f2e37",
   "metadata": {},
   "outputs": [],
   "source": []
  },
  {
   "cell_type": "code",
   "execution_count": null,
   "id": "e4f9a4ca-b62d-4585-b931-c07be4fc0a68",
   "metadata": {},
   "outputs": [],
   "source": []
  },
  {
   "cell_type": "markdown",
   "id": "1bbe1ea9-d315-4347-8e3f-e9fbacfd9966",
   "metadata": {},
   "source": [
    "## route optimization\n",
    "https://openrouteservice.org/example-optimize-pub-crawl-with-ors/\n",
    "\n",
    "https://www.youtube.com/watch?v=OOCvhc0k1R4\n",
    "\n"
   ]
  },
  {
   "cell_type": "code",
   "execution_count": null,
   "id": "57f48a78-6c3a-42b7-8d02-56b433e613d9",
   "metadata": {},
   "outputs": [],
   "source": [
    "import openrouteservice as ors\n",
    "from openrouteservice import distance_matrix\n",
    "\n",
    "## https://readthedocs.org/projects/openrouteservice-py/downloads/pdf/latest/\n",
    "\n",
    "POI_coords = list(zip([i.x for i in pois_merge.geometry], [i.y for i in pois_merge.geometry]))\n",
    "request = {'locations': POI_coords,\n",
    "           'profile': 'foot-hiking', ## profile options: f [“driving-car”, “driving-hgv”, “foot-walking”, “foot-hiking”, “cycling-regular”, “cycling-road”,”cycling-mountain”, “cycling-electric”,].\n",
    "           'metrics': ['distance']} ## default duration \n",
    "poi_matrix = ors.distance_matrix(**request)\n",
    "print(\"Calculated {}x{} routes.\".format(len(poi_matrix['durations']), len(poi_matrix['durations'][0])))"
   ]
  }
 ],
 "metadata": {
  "kernelspec": {
   "display_name": ".working311",
   "language": "python",
   "name": ".working311"
  },
  "language_info": {
   "codemirror_mode": {
    "name": "ipython",
    "version": 3
   },
   "file_extension": ".py",
   "mimetype": "text/x-python",
   "name": "python",
   "nbconvert_exporter": "python",
   "pygments_lexer": "ipython3",
   "version": "3.11.9"
  }
 },
 "nbformat": 4,
 "nbformat_minor": 5
}
