{
 "cells": [
  {
   "cell_type": "code",
   "execution_count": 1,
   "id": "100166a0-1299-4493-9fec-1695b41990dc",
   "metadata": {},
   "outputs": [],
   "source": [
    "import os\n",
    "import asf_search as asf\n",
    "import geopandas as gpd\n",
    "from shapely.geometry import box\n",
    "from datetime import date \n",
    "import json"
   ]
  },
  {
   "cell_type": "code",
   "execution_count": 2,
   "id": "ad8cd81c-eb72-42a9-b26e-e0d278d5154b",
   "metadata": {},
   "outputs": [
    {
     "name": "stdout",
     "output_type": "stream",
     "text": [
      "POLYGON ((8.681087792680616 13.17311260413035, 8.681087792680616 13.874194166624305, 8.233924892014118 13.874194166624305, 8.233924892014118 13.17311260413035, 8.681087792680616 13.17311260413035))\n"
     ]
    }
   ],
   "source": [
    "def wkt_bounds(grid_file):\n",
    "    aoi = gpd.read_file(grid_file)\n",
    "    aoi_4326 = aoi.to_crs(4326)\n",
    "    ## Extract the Bounding Box Coordinates\n",
    "    bounds = aoi_4326.total_bounds\n",
    "    ## Create GeoDataFrame of the Bounding Box \n",
    "    gdf_bounds = gpd.GeoSeries([box(*bounds)])\n",
    "    ## Get WKT Coordinates\n",
    "    wkt_aoi = gdf_bounds.to_wkt().values.tolist()[0]\n",
    "    return wkt_aoi"
   ]
  },
  {
   "cell_type": "code",
   "execution_count": null,
   "id": "77e4b25a-4ce0-47ed-a9f3-1cdf24f3e5ea",
   "metadata": {},
   "outputs": [],
   "source": [
    "grid_file=r\"G:\\Shared drives\\demilunes\\Data\\AOI_Grid_and_Villages\\AOI\\Full_AOI.shp\"\n",
    "\n",
    "out_dir=r\"C:\\Users\\Lauren\\Documents\\01_Demilunes\\SAR"
   ]
  },
  {
   "cell_type": "code",
   "execution_count": 3,
   "id": "13e7e7af-0215-4f6c-89ee-667aea8c5fe6",
   "metadata": {},
   "outputs": [
    {
     "name": "stdout",
     "output_type": "stream",
     "text": [
      "Total Images Found: 58\n"
     ]
    }
   ],
   "source": [
    "results_aoi = asf.geo_search(platform=[asf.PLATFORM.SENTINEL1], \n",
    "                              processingLevel=[asf.PRODUCT_TYPE.GRD_HD], \n",
    "                              intersectsWith=wkt_bounds(grid_file), \n",
    "                              maxResults=500,\n",
    "                              start = date(2017, 1, 1),\n",
    "                              end = date(2017, 12, 31))\n",
    "metadata_results_aoi = results_aoi.geojson()\n",
    "print(f\"Total Images Found: {len(results_aoi)}\")"
   ]
  },
  {
   "cell_type": "code",
   "execution_count": 4,
   "id": "b0e3a7b7-17b4-4a9f-aa72-37b749fccaa7",
   "metadata": {},
   "outputs": [],
   "source": [
    "credentials=r\"C:\\Users\\Lauren\\Documents\\code\\demilunes\\credentials.json\"\n",
    "\n",
    "with open(credentials) as f:\n",
    "    creds = json.load(f)\n",
    "    username = creds['username']\n",
    "    password = creds['password']\n",
    "session_aoi = asf.ASFSession().auth_with_creds(username, password)\n",
    "results_aoi.download(path = out_dir,\n",
    "                      session = session_aoi, \n",
    "                      processes = 2)"
   ]
  },
  {
   "cell_type": "code",
   "execution_count": null,
   "id": "d2bc0f8e-d1be-4a45-b541-dd9cc3cbb9ba",
   "metadata": {},
   "outputs": [],
   "source": []
  },
  {
   "cell_type": "code",
   "execution_count": null,
   "id": "da8ce839-19d3-40c4-b13a-3276feed7331",
   "metadata": {},
   "outputs": [],
   "source": [
    "## OLD SEARCH QUERY: add credentials\n",
    "\n",
    "asf_username = \"\"\n",
    "asf_pwd = \"\""
   ]
  },
  {
   "cell_type": "code",
   "execution_count": null,
   "id": "f2ea296c-c003-4568-991b-4617332bda86",
   "metadata": {
    "tags": []
   },
   "outputs": [],
   "source": [
    "aoi1 = gpd.read_file(grid_file)\n",
    "### 2. Extract the Bounding Box Coordinates\n",
    "bounds1 = aoi1.total_bounds\n",
    "### 3. Create GeoDataFrame of the Bounding Box \n",
    "gdf_bounds1 = gpd.GeoSeries([box(*bounds1)])\n",
    "### 4. Get WKT Coordinates\n",
    "wkt_aoi1 = gdf_bounds1.to_wkt().values.tolist()[0]\n",
    "print(wkt_aoi1)\n",
    "results = asf.search( ## asf.search or asf.geo_search\n",
    "    platform= asf.PLATFORM.SENTINEL1A,\n",
    "    processingLevel=[asf.PRODUCT_TYPE.SLC], ## PRODUCT_TYPE.GRD or .SLC\n",
    "    start = date(2018, 10, 1),\n",
    "    end = date(2018, 12, 31), \n",
    "    intersectsWith = wkt_aoi1)\n",
    "print(f'Total Images Found: {len(results1)}')\n",
    "### Save Metadata to a Dictionary\n",
    "metadata1 = results1.geojson()\n",
    "sesh = asf.ASFSession().auth_with_creds(asf_username, asf_pwd)\n",
    "results.download(path = out_dir, session = sesh, processes = 2)"
   ]
  },
  {
   "cell_type": "code",
   "execution_count": null,
   "id": "d7913539-eecb-419e-a287-771b63bfcc78",
   "metadata": {},
   "outputs": [],
   "source": []
  }
 ],
 "metadata": {
  "kernelspec": {
   "display_name": "leaflet",
   "language": "python",
   "name": "leaflet"
  },
  "language_info": {
   "codemirror_mode": {
    "name": "ipython",
    "version": 3
   },
   "file_extension": ".py",
   "mimetype": "text/x-python",
   "name": "python",
   "nbconvert_exporter": "python",
   "pygments_lexer": "ipython3",
   "version": "3.10.6"
  },
  "widgets": {
   "application/vnd.jupyter.widget-state+json": {
    "state": {},
    "version_major": 2,
    "version_minor": 0
   }
  }
 },
 "nbformat": 4,
 "nbformat_minor": 5
}
