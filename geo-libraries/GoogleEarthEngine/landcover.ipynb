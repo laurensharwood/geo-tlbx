{
 "cells": [
  {
   "cell_type": "code",
   "execution_count": 3,
   "id": "2c6e777c-4d65-4d50-95f9-2ad484649e54",
   "metadata": {},
   "outputs": [],
   "source": [
    "import os\n",
    "import rasterio as rio\n",
    "import numpy as np\n",
    "import geopandas as gpd\n",
    "import pandas as pd\n",
    "from rasterio.warp import calculate_default_transform, transform, reproject, Resampling\n"
   ]
  },
  {
   "cell_type": "code",
   "execution_count": 6,
   "id": "389799fd-ce0e-4966-8fcf-429f9f928615",
   "metadata": {},
   "outputs": [
    {
     "data": {
      "text/html": [
       "<p>To authorize access needed by Earth Engine, open the following\n",
       "        URL in a web browser and follow the instructions:</p>\n",
       "        <p><a href=https://code.earthengine.google.com/client-auth?scopes=https%3A//www.googleapis.com/auth/earthengine%20https%3A//www.googleapis.com/auth/devstorage.full_control&request_id=gV7sdLuS5MjOXgP6_gHKc8Cc2aGDqGiyK1YDiteFD1U&tc=VmixhqycuROpBwhkxVkmaTeCvLWRkgsTyA4b_yqbNjI&cc=eKC1W570-G7x1ef93it3FTN5u_IzD7ka2XS2Zfrints>https://code.earthengine.google.com/client-auth?scopes=https%3A//www.googleapis.com/auth/earthengine%20https%3A//www.googleapis.com/auth/devstorage.full_control&request_id=gV7sdLuS5MjOXgP6_gHKc8Cc2aGDqGiyK1YDiteFD1U&tc=VmixhqycuROpBwhkxVkmaTeCvLWRkgsTyA4b_yqbNjI&cc=eKC1W570-G7x1ef93it3FTN5u_IzD7ka2XS2Zfrints</a></p>\n",
       "        <p>The authorization workflow will generate a code, which you should paste in the box below.</p>\n",
       "        "
      ],
      "text/plain": [
       "<IPython.core.display.HTML object>"
      ]
     },
     "metadata": {},
     "output_type": "display_data"
    },
    {
     "name": "stdout",
     "output_type": "stream",
     "text": [
      "Enter verification code:  4/1AfJohXkPu-lLOcv8IsZTFNbwrOlz3akT20PmVWx9sXsgftWaaw1xcSUn3RQ\n"
     ]
    },
    {
     "name": "stdout",
     "output_type": "stream",
     "text": [
      "\n",
      "Successfully saved authorization token.\n"
     ]
    }
   ],
   "source": [
    "import ee\n",
    "import geemap\n",
    "import geopandas as gpd\n",
    "import os\n",
    "\n",
    "ee.Initialize()\n",
    "ee.Authenticate()"
   ]
  },
  {
   "cell_type": "code",
   "execution_count": null,
   "id": "174f1f0b-2716-424d-9142-7a22a2e0081d",
   "metadata": {
    "tags": []
   },
   "outputs": [],
   "source": [
    "## MAPBIOMAS download\n",
    "\n",
    "years=[2019] ##, 2020, 2021, 2022\n",
    "out_dir=\"/raida-cel/r/downspout-cel/paraguay_lc/lc_prods/MB_PRY\"\n",
    "grid_file=\"/raida-cel/r/downspout-cel/paraguay_lc/Segmentations/PY_grid_8858.gpkg\"\n",
    "\n",
    "gdf = gpd.read_file(grid_file)\n",
    "gdf = gdf.set_crs(gdf.crs)\n",
    "gdf_web = gdf.to_crs('EPSG:4326')\n",
    "#gdf_web =  gdf_web[gdf_web['UNQ'].isin(gridCells_TODO)] # subset UNQ rows that are in gridCells_TODO list \n",
    "\n",
    "band_list = ['classification_'+str(yr) for yr in years] \n",
    "for k, cell in gdf_web.iterrows():\n",
    "    aoi = ee.Geometry.Rectangle([cell.geometry.bounds[0], cell.geometry.bounds[1], cell.geometry.bounds[2], cell.geometry.bounds[3]])\n",
    "    UNQ = int(cell['UNQ'])\n",
    "\n",
    "    dst = ee.Image( \"projects/mapbiomas-public/assets/paraguay/collection1/mapbiomas_paraguay_collection1_integration_v1\")\n",
    "    bands = dst.select(band_list)\n",
    "    projection = bands.projection().getInfo() ## arbitrary band, to grab CRS extent info\n",
    "    \n",
    "    for band in band_list: # save one band at a time \n",
    "        out_name=os.path.join(out_dir, \"UNQ\"+str(UNQ)+\".\"+band+\".tif\")\n",
    "        if not os.path.exists(out_name):\n",
    "            # full_out_dir = os.path.join(out_dir, band.split(\"_\")[-1])\n",
    "            # if not os.path.exists(full_out_dir):\n",
    "            #     os.makedirs(full_out_dir)\n",
    "            geemap.ee_export_image(bands.select(band), \n",
    "                                filename=out_name, \n",
    "                                crs=projection.get('crs'), crs_transform=projection.get('transform'),\n",
    "                                region=aoi, file_per_band=True)"
   ]
  },
  {
   "cell_type": "code",
   "execution_count": null,
   "id": "596bd902",
   "metadata": {},
   "outputs": [],
   "source": [
    "start_date = '2017-01-01'\n",
    "end_date = '2018-01-01'\n",
    "\n",
    "region = ee.Geometry.BBox(8.1, 13.1,  8.7, 13.9)\n",
    "Map = geemap.Map()\n",
    "Map.add_basemap('HYBRID')\n",
    "Map.centerObject(region)\n",
    "\n",
    "dw_class = geemap.dynamic_world(region, start_date, end_date, return_type='class')\n",
    "dw_vis = {\"min\": 0, \"max\": 8, \"palette\": [ \"#419BDF\", \"#88B053\", \"#7A87C6\", \"#E49635\", \"#DFC35A\", \"#C4281B\", \"#A59B8F\", \"#B39FE1\", ],}\n",
    "Map.addLayer(dw_class, dw_vis, 'DW Land Cover', True)\n",
    "Map.add_legend(title=\"Dynamic World Land Cover\", builtin_legend='Dynamic_World')\n",
    "\n",
    "buildings = ee.FeatureCollection(\"GOOGLE/Research/open-buildings/v3/polygons\") ## v3: inference carried out during May 2023\n",
    "buildings_AOI = buildings.filterBounds(region)\n",
    "Map.addLayer(buildings_AOI)\n",
    "\n",
    "Map"
   ]
  },
  {
   "cell_type": "code",
   "execution_count": null,
   "id": "bcc8f77e",
   "metadata": {},
   "outputs": [],
   "source": []
  },
  {
   "cell_type": "code",
   "execution_count": 129,
   "id": "47b6bc7e-b754-49ed-a097-a1faf668f9b2",
   "metadata": {},
   "outputs": [],
   "source": [
    "import os\n",
    "import pandas as pd\n",
    "import geopandas as gpd\n",
    "import numpy as np\n",
    "import rasterio as rio\n",
    "\n",
    "from sklearn.metrics import confusion_matrix"
   ]
  },
  {
   "cell_type": "code",
   "execution_count": 146,
   "id": "b204b341-6c95-4f0d-8627-2cd35e7de97b",
   "metadata": {},
   "outputs": [],
   "source": [
    "samp_pts=\"/home/l_sharwood/code/fishnet_1km_label.shp\"\n",
    "##samp_pts=\"/home/l_sharwood/code/samp_500m.shp\"\n",
    "\n",
    "rast_list=[\"/home/l_sharwood/code/Baumann_reclass_2022_8858.tif\",\n",
    "##\"/home/l_sharwood/code/MB_PRY_reclass_2022_8858.tif\",\n",
    "\"/raida-cel/r/downspout-cel/paraguay_lc/lc_prods/MB_PRY/reclass_2/MB_PRY_reclass_2022_8858.tif\", \n",
    "##\"/home/l_sharwood/code/CEL_reclass_2022_8858_10m.tif\",\n",
    "\"/raida-cel/r/downspout-cel/paraguay_lc/lc_prods/CEL/reclass_2/CEL_reclass_2022_8858.tif\"\n",
    "]\n",
    "\n",
    "\n",
    "field_pts = gpd.read_file(samp_pts)\n",
    "coords_list = list(zip([i.x for i in field_pts.geometry.to_list()],  [i.y for i in field_pts.geometry.to_list()]))\n",
    "field_pts=field_pts[[\"geometry\"]]\n",
    "\n",
    "for rast in rast_list:\n",
    "    prod_name=os.path.basename(rast).replace(\"_reclass_2022_8858\", \"\")[:-4].replace(\"_10m\", \"\")\n",
    "    with rio.open(rast) as src:\n",
    "        ## create column for raster, row is raster value at each coordinate\n",
    "        field_pts[prod_name] = [x[0] for x in src.sample(coords_list)]\n",
    "## remove rows where they're ALL zero\n",
    "df = field_pts.loc[field_pts['CEL'] * field_pts['Baumann'] * field_pts['MB_PRY'] != 0]\n",
    "\n",
    "df.to_csv(os.path.basename(samp_pts).replace(\".shp\", \"_2.csv\"))"
   ]
  },
  {
   "cell_type": "code",
   "execution_count": 147,
   "id": "81af5de5-2b1f-4995-ae30-c9910877cd2b",
   "metadata": {},
   "outputs": [],
   "source": [
    "true_pred = [\"CEL\", \"MB_PRY\"]\n",
    "\n",
    "## subset cols \n",
    "matrix_df = df[[true_pred[0], true_pred[1]]]\n",
    "## delete if ANY are zero\n",
    "matrix_df = matrix_df[(matrix_df != 0).all(1)]\n",
    "\n",
    "## first is true value, second\n",
    "true = matrix_df[true_pred[0]]\n",
    "pred =  matrix_df[true_pred[1]]\n",
    "agree_arr = confusion_matrix(true, pred)\n",
    "df_ag = pd.DataFrame(agree_arr)\n",
    "df_ag.to_csv(\"/home/l_sharwood/code/\"+os.path.basename(samp_pts)[:-4]+\"_agree_\"+true_pred[0]+\"_\"+true_pred[1]+\"_2.csv\")"
   ]
  },
  {
   "cell_type": "code",
   "execution_count": 148,
   "id": "3e1dc85f-7136-45fb-aec1-ba465e872bab",
   "metadata": {},
   "outputs": [],
   "source": [
    "true_pred = [\"CEL\", \"Baumann\"]\n",
    "\n",
    "## subset cols \n",
    "matrix_df = df[[true_pred[0], true_pred[1]]]\n",
    "## delete if ANY are zero\n",
    "matrix_df = matrix_df[(matrix_df != 0).all(1)]\n",
    "\n",
    "## first is true value, second\n",
    "true = matrix_df[true_pred[0]]\n",
    "pred =  matrix_df[true_pred[1]]\n",
    "agree_arr = confusion_matrix(true, pred)\n",
    "df_ag = pd.DataFrame(agree_arr)\n",
    "df_ag.to_csv(\"/home/l_sharwood/code/\"+os.path.basename(samp_pts)[:-4]+\"_agree_\"+true_pred[0]+\"_\"+true_pred[1]+\"_2.csv\")"
   ]
  },
  {
   "cell_type": "code",
   "execution_count": 149,
   "id": "320736fb-6179-4c42-88cc-5c78cc7fc9d3",
   "metadata": {},
   "outputs": [],
   "source": [
    "true_pred = [\"MB_PRY\", \"Baumann\"]\n",
    "\n",
    "## subset cols \n",
    "matrix_df = df[[true_pred[0], true_pred[1]]]\n",
    "## delete if ANY are zero\n",
    "matrix_df = matrix_df[(matrix_df != 0).all(1)]\n",
    "\n",
    "## first is true value, second\n",
    "true = matrix_df[true_pred[0]]\n",
    "pred =  matrix_df[true_pred[1]]\n",
    "agree_arr = confusion_matrix(true, pred)\n",
    "df_ag = pd.DataFrame(agree_arr)\n",
    "df_ag.to_csv(\"/home/l_sharwood/code/\"+os.path.basename(samp_pts)[:-4]+\"_agree_\"+true_pred[0]+\"_\"+true_pred[1]+\"_2.csv\")"
   ]
  },
  {
   "cell_type": "code",
   "execution_count": null,
   "id": "cce6f7f1-1a9a-455c-a32e-1aa00fde1af1",
   "metadata": {},
   "outputs": [],
   "source": []
  },
  {
   "cell_type": "code",
   "execution_count": null,
   "id": "ce3cd0e5-ae82-40c7-8426-365f37ba1d0b",
   "metadata": {},
   "outputs": [],
   "source": [
    "## ARCHIVE"
   ]
  },
  {
   "cell_type": "code",
   "execution_count": null,
   "id": "5654c607-49f6-4455-84d6-47258dbdbb9f",
   "metadata": {
    "tags": []
   },
   "outputs": [],
   "source": [
    "### ## reclass -> reproject -> mosaic -> resize to 10m (in Arc) -> TILE\n",
    "\n",
    "grid_shape=\"/raida-cel/r/downspout-cel/paraguay_lc/Segmentations/PY_grid_8858.gpkg\"\n",
    "prodBase_dir=\"/raida-cel/r/downspout-cel/paraguay_lc/lc_prods/CEL\"\n",
    "##out_dir=\"/raida-cel/r/downspout-cel/paraguay_lc/lc_prods/Baumann\"\n",
    "out_dir=\"/raida-cel/r/downspout-cel/paraguay_lc/lc_prods/MB_PRY\"\n",
    "\n",
    "####################\n",
    "\n",
    "grids=sorted([int(i.split(\"_\")[3][-4:]) for i in os.listdir(prodBase_dir) if i.endswith(\".tif\") and \"reclass\" in i])\n",
    "grid_gdf = gpd.read_file(grid_shape)\n",
    "for UNQ in sorted(grids):\n",
    "    bounds = grid_gdf[grid_gdf['UNQ'] == UNQ].geometry.bounds.iloc[0]\n",
    "    boundary = (float(bounds[0]), float(bounds[2]), float(bounds[1] ), float(bounds[3]))\n",
    "    for pred_rast in [os.path.join(out_dir, i) for i in os.listdir(out_dir) if \"reclass\" in i and i.endswith(\"8858_10m.tif\")] : \n",
    "        with rio.open(pred_rast) as srcA:\n",
    "            gt = srcA.transform\n",
    "            offset = img_to_bbox_offsets(gt, boundary)\n",
    "            new_gt = rio.Affine(gt[0], gt[1], (gt[2] + (offset[0] * gt[0])), 0.0, gt[4], (gt[5] + (offset[1] * gt[4])))\n",
    "            A_arr = srcA.read(window=Window(offset[0], offset[1], offset[2], offset[3]))   \n",
    "            copy_meta=srcA.meta.copy()\n",
    "            \n",
    "        copy_meta.update({\"height\":A_arr.shape[1], \"width\":A_arr.shape[2], \"transform\":new_gt})\n",
    "        out_name = os.path.join(out_dir, os.path.basename(out_dir)+\"_2022_8858_10m_\"+\"UNQ\"+str(UNQ)+\".tif\")\n",
    "        with rio.open(out_name, 'w', **copy_meta) as dst:\n",
    "            dst.write(A_arr)\n",
    "        print(out_name)"
   ]
  },
  {
   "cell_type": "code",
   "execution_count": null,
   "id": "4f28658f-12fd-478a-9994-2b61f4e307e8",
   "metadata": {},
   "outputs": [],
   "source": []
  },
  {
   "cell_type": "code",
   "execution_count": null,
   "id": "a0d7381a-7169-47ce-a125-8242a17d6425",
   "metadata": {
    "tags": []
   },
   "outputs": [],
   "source": [
    "## COMPARE UNQ TILES\n",
    "\n",
    "prodB_dir=\"/raida-cel/r/downspout-cel/paraguay_lc/lc_prods/Baumann\"\n",
    "##prodB_dir=\"/raida-cel/r/downspout-cel/paraguay_lc/lc_prods/MB_PRY\"\n",
    "\n",
    "###################\n",
    "\n",
    "prodBase_dir=\"/raida-cel/r/downspout-cel/paraguay_lc/lc_prods/CEL\"\n",
    "out_dir=\"/raida-cel/r/downspout-cel/paraguay_lc/lc_prods/CEL_v_\"+os.path.basename(prodB_dir)\n",
    "if not os.path.exists(out_dir):\n",
    "    os.makedirs(out_dir)\n",
    "    \n",
    "grid_gdf = gpd.read_file(grid_shape)\n",
    "grids=sorted([int(i.split(\"_\")[3][-4:]) for i in os.listdir(prodBase_dir) if i.endswith(\".tif\") and \"reclass\" in i])\n",
    "for UNQ in sorted(grids):\n",
    "    \n",
    "    bounds = grid_gdf[grid_gdf['UNQ'] == UNQ].geometry.bounds.iloc[0]\n",
    "    boundary = (float(bounds[0]), float(bounds[2]), float(bounds[1] ), float(bounds[3]))\n",
    "    \n",
    "    base_rast = os.path.join(prodBase_dir, os.path.basename(prodBase_dir)+\"_reclass_2022_\"+\"UNQ\"+str(UNQ)+\"_8858.tif\")\n",
    "    with rio.open(base_rast) as src:\n",
    "        gt = src.transform\n",
    "        offset = img_to_bbox_offsets(gt, boundary)  \n",
    "        new_gt = rio.Affine(gt[0], gt[1], (gt[2] + (offset[0] * gt[0])), 0.0, gt[4], (gt[5] + (offset[1] * gt[4])))\n",
    "        CEL_arr = src.read(window=Window(offset[0], offset[1], offset[2], offset[3]))   \n",
    "\n",
    "    other_prod = os.path.join(prodB_dir, os.path.basename(prodB_dir)+\"_2022_8858_10m_\"+\"UNQ\"+str(UNQ)+\".tif\")\n",
    "    if os.path.exists(other_prod):\n",
    "        with rio.open(other_prod) as src:\n",
    "            gt = src.transform\n",
    "            offset = img_to_bbox_offsets(gt, boundary)  \n",
    "            new_gt = rio.Affine(gt[0], gt[1], (gt[2] + (offset[0] * gt[0])), 0.0, gt[4], (gt[5] + (offset[1] * gt[4])))\n",
    "            other_arr = src.read(window=Window(offset[0], offset[1], offset[2], offset[3]))   \n",
    "            copy_meta = src.meta.copy()\n",
    "        ## if the other array has any values (isn't a blank tile)\n",
    "        if other_arr.max() > 0:\n",
    "            if CEL_arr.shape==other_arr.shape:\n",
    "                boolarr=(CEL_arr==other_arr)\n",
    "                print(str(np.int32(np.count_nonzero(boolarr)/(other_arr.shape[2]*other_arr.shape[1])*100))+'% of pixels are the same in grid cell '+str(UNQ))\n",
    "\n",
    "                diff_arr = A_arr.copy()\n",
    "                diff_arr=np.where(diff_arr > 0, 99, 99) ## start w/ array of 99's (don't use 0-nodata is 0)\n",
    "                diff_arr=np.where(((CEL_arr==0) | (other_arr==0)), 0, diff_arr) ## where either raster is 0(no data), make the comparison raster 0\n",
    "                diff_arr=np.where(((CEL_arr==1) & (other_arr==1)), 1, diff_arr) ## 1 where they're both crop\n",
    "                diff_arr=np.where(((CEL_arr==2) & (other_arr==2)), 2, diff_arr) ## 2 where they're both grass\n",
    "                diff_arr=np.where(((CEL_arr==3) & (other_arr==3)), 3, diff_arr) ## 3 where they're both forest\n",
    "                diff_arr=np.where(((CEL_arr==4) & (other_arr==4)), 4, diff_arr) ## 4 where they're both other\n",
    "                diff_arr=np.where(((CEL_arr==1) & (other_arr==2)), 12, diff_arr) ## 12 where A says crop but B says grass\n",
    "                diff_arr=np.where(((CEL_arr==2) & (other_arr==1)), 21, diff_arr) ## 21 where A says grass but B says crop\n",
    "                diff_arr=np.where(((CEL_arr==1) & (other_arr==3)), 13, diff_arr) ## 13 where A says crop but B says forest\n",
    "                diff_arr=np.where(((CEL_arr==3) & (other_arr==1)), 31, diff_arr) ## 31 where A says forest but B says crop\n",
    "                diff_arr=np.where(((CEL_arr==1) & (other_arr==4)), 14, diff_arr) ## 14 where A says crop but B says other\n",
    "                diff_arr=np.where(((CEL_arr==4) & (other_arr==1)), 41, diff_arr) ## 41 where A says other but B says crop\n",
    "\n",
    "                ## not considering grass misclassed as forest or other \n",
    "                copy_meta.update({\"height\":diff_arr.shape[1], \"width\":diff_arr.shape[2], \"transform\":new_gt})\n",
    "                out_name = os.path.join(out_dir, os.path.basename(out_dir)+\"_UNQ\"+str(UNQ)+\".tif\")\n",
    "\n",
    "                with rio.open(out_name, 'w', **copy_meta) as dst:\n",
    "                    dst.write(diff_arr)"
   ]
  },
  {
   "cell_type": "code",
   "execution_count": null,
   "id": "b7494182-3b99-4279-b876-f1409321549e",
   "metadata": {},
   "outputs": [],
   "source": [
    "## value counts\n",
    "out_dir=\"/raida-cel/r/downspout-cel/paraguay_lc/lc_prods/CEL_v_Baumann\"\n",
    "\n",
    "compar_rasts = sorted([os.path.join(out_dir,i) for i in os.listdir(out_dir) if i.endswith(\".tif\")])\n",
    "for raster in compar_rasts:\n",
    "    with rio.open(raster) as src:\n",
    "        arr=src.read(1)\n",
    "        value_counts = np.unique(arr, return_counts=True)\n",
    "        print(dict(zip(value_counts[0], value_counts[1])))\n",
    "        classed_pix_count = np.count_nonzero(arr)\n",
    "        "
   ]
  }
 ],
 "metadata": {
  "kernelspec": {
   "display_name": "Python [conda env:.helpers38] *",
   "language": "python",
   "name": "conda-env-.helpers38-py"
  },
  "language_info": {
   "codemirror_mode": {
    "name": "ipython",
    "version": 3
   },
   "file_extension": ".py",
   "mimetype": "text/x-python",
   "name": "python",
   "nbconvert_exporter": "python",
   "pygments_lexer": "ipython3",
   "version": "3.8.16"
  }
 },
 "nbformat": 4,
 "nbformat_minor": 5
}
