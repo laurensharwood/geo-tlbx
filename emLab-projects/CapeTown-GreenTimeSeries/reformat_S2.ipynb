{
 "cells": [
  {
   "cell_type": "code",
   "execution_count": 1,
   "id": "4385cbb3-0d44-4357-99b2-b644163cae8a",
   "metadata": {},
   "outputs": [],
   "source": [
    "import os, sys\n",
    "import pandas as pd\n",
    "import geopandas as gpd\n",
    "import rasterio as rio\n",
    "import numpy as np\n"
   ]
  },
  {
   "cell_type": "code",
   "execution_count": null,
   "id": "7c6de61f-7092-47cc-b716-f25c03004bea",
   "metadata": {},
   "outputs": [],
   "source": [
    "import geowombat as gw\n",
    "import shutil\n",
    "in_dir=\"/home/l_sharwood/images/\"\n",
    "# done_fis = [\"S2A_34HBH_20151218_0_L2A.tif\" ,  \"S2A_34HBH_20151228_0_L2A.tif\", \"S2A_34HBH_20160117_0_L2A.tif\", \"S2A_34HBH_20160216_0_L2A.tif\", 'S2A_34HBH_20160307_0_L2A.tif', \"S2A_34HBH_20160725_0_L2A.tif\", \"S2A_34HBH_20160526_0_L2A.tif\", \"S2A_34HBH_20160605_0_L2A.tif\", \"S2A_34HBH_20160804_0_L2A.tif\", \"S2A_34HBH_20160903_0_L2A.tif\", \"S2A_34HBH_20160923_0_L2A\", \"S2A_34HBH_20161003_0_L2A\", \"S2A_34HBH_20161013_0_L2A\", \"S2A_34HBH_20161023_0_L2A\", \"S2A_34HBH_20161122_0_L2A\", \"S2A_34HBH_20161202_0_L2A\"]\n",
    "# out_rasts = [i for i in os.listdir(in_dir) if (i.endswith(\".tif\") and i not in done_fis)]\n",
    "\n",
    "toDos=[ \n",
    "    # \"S2A_34HBH_20151218_0_L2A.tif\", \"S2A_34HBH_20151228_0_L2A.tif\",\n",
    "    #    \"S2A_34HBH_20160117_0_L2A.tif\", \n",
    "    #    \"S2A_34HBH_20160216_0_L2A.tif\", \n",
    "    #    'S2A_34HBH_20160307_0_L2A.tif', \n",
    "         \"S2A_34HBH_20160406_0_L2A.tif\", \n",
    "    # \"S2A_34HBH_20160406_1_L2A.tif\", \n",
    "    #    \"S2A_34HBH_20160526_0_L2A.tif\", \n",
    "    #    \"S2A_34HBH_20160605_0_L2A.tif\", \n",
    "    #    \"S2A_34HBH_20160725_0_L2A.tif\", \n",
    "    #    \"S2A_34HBH_20160804_0_L2A.tif\", \n",
    "      #  \"S2A_34HBH_20160903_0_L2A.tif\", \n",
    "    # \"S2A_34HBH_20160923_0_L2A.tif\", \n",
    "    #    \"S2A_34HBH_20161003_0_L2A.tif\", \"S2A_34HBH_20161013_0_L2A.tif\", \"S2A_34HBH_20161023_0_L2A.tif\",\n",
    "    #    \"S2A_34HBH_20161122_0_L2A.tif\", \n",
    "    #    \"S2A_34HBH_20161202_0_L2A.tif\"\n",
    "] \n",
    "out_rasts = sorted([i for i in os.listdir(in_dir) if (i.endswith(\".tif\") and i in toDos)])\n",
    "print(out_rasts)\n",
    "\n",
    "grid_gdf = gpd.read_file(\"/home/l_sharwood/code/cape_gridBuf_utm32S.shp\")\n",
    "unq_list = [1,2,5,6,7,8,9,10,11,13,14,15,17,18,19,20] #,\n",
    "grids_totile=grid_gdf[grid_gdf['UNQ'].isin(unq_list)]\n",
    "\n",
    "\n",
    "for k, v in grids_totile.iterrows():\n",
    "    UNQ = v['UNQ']\n",
    "    QC_db = \"/home/sandbox-cel/capeTown/stac_grids/\"+str(UNQ).zfill(6)+\"/sentinel2/scene.info\"\n",
    "    out_dir = os.path.join(\"/home/sandbox-cel/capeTown/stac_grids\", str(UNQ).zfill(6), \"sentinel2\")\n",
    "    bounds = v.geometry.bounds\n",
    "    ## out_rasts = [i for i in os.listdir(in_dir) if (i.endswith(\".tif\") and i in done_fis)]\n",
    "    for rast in out_rasts:\n",
    "        full_out_name = os.path.join(out_dir, rast)\n",
    "        meta_file=full_out_name[:-4]+\"_metadata.xml\"\n",
    "        name=os.path.basename(meta_file)[:-13]\n",
    "        date = pd.to_datetime(name.split(\"_\")[2], format='%Y%m%d')\n",
    "        print(name, date)\n",
    "        \n",
    "        shutil.copyfile(os.path.join(in_dir, rast[:-4]+\".xml\"), meta_file)\n",
    "        # if os.path.exists(os.path.join(out_dir, rast)):\n",
    "        #     os.remove(os.path.join(out_dir, rast))\n",
    "        print(meta_file)\n",
    "        with gw.config.update(ref_crs=32734,  ref_res=10, ref_bounds=bounds):\n",
    "            with gw.open(os.path.join(in_dir, rast), chunks=1024) as ref:\n",
    "                attrs = ref.attrs.copy()\n",
    "                ref = (ref).assign_attrs(**attrs, verbose=1)\n",
    "                ref.gw.to_raster(os.path.join(out_dir, rast), indexes=6, n_workers=4, n_threads=1)                \n",
    "                print(os.path.join(out_dir, rast))   \n",
    "                \n",
    "                \n",
    "        if os.path.exists(QC_db):\n",
    "            p_df = pd.read_pickle(QC_db)\n",
    "            p_df.drop(p_df.loc[[i.split(\"_\")[-2] == '1' for i in p_df['id']] ].index, inplace=True)\n",
    "           ## p_df.drop(p_df.loc[[i.year <= 2017 for i in p_df['date']] ].index, inplace=True)\n",
    "            p_df.loc[len(p_df.index)] = [name, \n",
    "                                         meta_file, \n",
    "                                         date]\n",
    "        display(p_df.drop_duplicates().sort_values('date'))\n",
    "        p_df.drop_duplicates().sort_values('date').to_pickle(QC_db)\n"
   ]
  },
  {
   "cell_type": "code",
   "execution_count": null,
   "id": "1ef04d97-0006-4f17-9e98-242d016134a4",
   "metadata": {
    "tags": []
   },
   "outputs": [],
   "source": [
    "import os\n",
    "import pandas as pd\n",
    "import math\n",
    "\n",
    "for grid in [1,2,5,6,7,8,9,10,11,13,14,15,17,18,19,20]:\n",
    "    print(grid)\n",
    "    monthDIR = os.path.join(\"/home/sandbox-cel/capeTown/monthly/sentinel2_brdf\", str(grid).zfill(2))\n",
    "    rm_files = [i for i in os.listdir(monthDIR) if (\"_201604\" in i)]\n",
    "    print(rm_files)\n",
    "    %cd $monthDIR\n",
    "    for file in rm_files:\n",
    "        !rm $file"
   ]
  },
  {
   "cell_type": "code",
   "execution_count": 66,
   "id": "da5705d5-13c9-42bd-abbb-76a195d8ed60",
   "metadata": {},
   "outputs": [],
   "source": [
    "## BRDF\n",
    "## monthly greenness\n",
    "## mosaic\n",
    "## decile monthly"
   ]
  },
  {
   "cell_type": "code",
   "execution_count": null,
   "id": "6e264487-a6af-4a34-bf86-3fea52ab48b7",
   "metadata": {},
   "outputs": [],
   "source": []
  },
  {
   "cell_type": "code",
   "execution_count": 151,
   "id": "a06241e5-0e32-4c21-8a3a-e85be06d6ff9",
   "metadata": {},
   "outputs": [],
   "source": [
    "\n",
    "from osgeo import gdal\n",
    "import os\n",
    "\n",
    "def monthly_vrts(month_dir, VI, mosaic_dir):\n",
    "    \n",
    "    if \"landsat\" in month_dir:\n",
    "        sensor=\"LC\"\n",
    "    elif \"sentinel2\" in month_dir:\n",
    "        sensor=\"S2\"    \n",
    "\n",
    "    if not os.path.exists(mosaic_dir):\n",
    "        os.makedirs(mosaic_dir)\n",
    "        \n",
    "    monthly_mosaics = []\n",
    "    for year in list(range(2016, 2022, 1)):\n",
    "        for month in list(range(1, 13, 1)):\n",
    "            date = str(year)+str(month).zfill(2)\n",
    "            grids = sorted([os.path.join(month_dir, g) for g in os.listdir(month_dir) if len(g) == 2 ])\n",
    "            files_to_mos = []\n",
    "            for grid_dir in grids:\n",
    "                file2mos = sorted([os.path.join(grid_dir, file) for file in os.listdir(grid_dir) if date in file and VI+\"_20\" in file])\n",
    "                if len(file2mos) == 1:\n",
    "                    files_to_mos.append(file2mos[0])\n",
    "                else:\n",
    "                    print(VI, grid_dir, date, len(file2mos))\n",
    "            out_vrt=os.path.join(mosaic_dir, sensor+\"_\"+str(VI)+\"_\"+str(date)+\".vrt\")\n",
    "            gdal.BuildVRT(out_vrt, sorted(files_to_mos))\n",
    "            monthly_mosaics.append(out_vrt)\n",
    "            \n",
    "    return monthly_mosaics"
   ]
  },
  {
   "cell_type": "code",
   "execution_count": null,
   "id": "7d0451d8-a60e-4fbb-bdd9-3da5b765a306",
   "metadata": {},
   "outputs": [],
   "source": [
    "import os\n",
    "from osgeo import gdal\n",
    "\n",
    "month_dir ='/home/sandbox-cel/capeTown/monthly/sentinel2_brdf'\n",
    "mosaic_dir = '/home/sandbox-cel/capeTown/monthly/sentinel2_brdf/vrts'\n",
    "\n",
    "if not os.path.exists(mosaic_dir):\n",
    "    os.makedirs(mosaic_dir)\n",
    "for VI in ['savi', 'evi', 'ndvi', 'ndmi1', 'ndmi2']: ##'evi', 'ndvi', 'ndmi1', 'ndmi2', 'ndwi', 'ndwi_rev'\n",
    "    monthly_vrts(month_dir=month_dir, VI=VI, mosaic_dir=mosaic_dir)\n",
    "    \n",
    "#10,14,15,18,19"
   ]
  },
  {
   "cell_type": "code",
   "execution_count": null,
   "id": "a9e4f08f-1379-46b5-9f92-b662e5bc0ef1",
   "metadata": {},
   "outputs": [],
   "source": []
  },
  {
   "cell_type": "code",
   "execution_count": null,
   "id": "dbe8db56-297f-42ef-9684-9ca922ae1d9b",
   "metadata": {
    "tags": []
   },
   "outputs": [],
   "source": [
    "unq05dates=UNQ_date_dict['05']\n",
    "unq01dates=UNQ_date_dict['01']\n",
    "sorted([i for i in unq05dates if i not in unq01dates])"
   ]
  },
  {
   "cell_type": "code",
   "execution_count": null,
   "id": "ba335ca6-4d0a-4cb5-8e9b-bc3b3580c9a3",
   "metadata": {},
   "outputs": [],
   "source": []
  }
 ],
 "metadata": {
  "kernelspec": {
   "display_name": "Python 3 (ipykernel)",
   "language": "python",
   "name": "python3"
  },
  "language_info": {
   "codemirror_mode": {
    "name": "ipython",
    "version": 3
   },
   "file_extension": ".py",
   "mimetype": "text/x-python",
   "name": "python",
   "nbconvert_exporter": "python",
   "pygments_lexer": "ipython3",
   "version": "3.9.6"
  }
 },
 "nbformat": 4,
 "nbformat_minor": 5
}
